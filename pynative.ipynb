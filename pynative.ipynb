{
 "cells": [
  {
   "cell_type": "code",
   "execution_count": null,
   "metadata": {},
   "outputs": [],
   "source": []
  },
  {
   "cell_type": "code",
   "execution_count": 1,
   "metadata": {},
   "outputs": [
    {
     "name": "stdout",
     "output_type": "stream",
     "text": [
      "Twinle, twinkle, little star,\n",
      "\t How I wonder what you are!\n",
      "\t\t Up above the world so high\n",
      "\t \t Like a diamond in the sky\n",
      "Twinkle, twinkle, little star,\n",
      "\t How I wonder what you are,\n"
     ]
    }
   ],
   "source": [
    "print(\"Twinle, twinkle, little star,\")\n",
    "print(\"\\t How I wonder what you are!\")\n",
    "print(\"\\t\\t Up above the world so high\")\n",
    "print(\"\\t \\t Like a diamond in the sky\")\n",
    "print(\"Twinkle, twinkle, little star,\")\n",
    "print(\"\\t How I wonder what you are,\")"
   ]
  },
  {
   "cell_type": "code",
   "execution_count": 2,
   "metadata": {},
   "outputs": [
    {
     "name": "stdout",
     "output_type": "stream",
     "text": [
      "Python version\n",
      "3.7.3 (default, Mar 27 2019, 17:13:21) [MSC v.1915 64 bit (AMD64)]\n",
      "Version info.\n",
      "sys.version_info(major=3, minor=7, micro=3, releaselevel='final', serial=0)\n"
     ]
    }
   ],
   "source": [
    "import sys\n",
    "print(\"Python version\")\n",
    "print (sys.version)\n",
    "print(\"Version info.\")\n",
    "print (sys.version_info)"
   ]
  },
  {
   "cell_type": "code",
   "execution_count": 3,
   "metadata": {},
   "outputs": [],
   "source": [
    "#Write a Python program to display the current date and time.\n",
    "#Sample Output : \n",
    "#Current date and time : \n",
    "#2014-07-05 14:34:14"
   ]
  },
  {
   "cell_type": "code",
   "execution_count": null,
   "metadata": {},
   "outputs": [
    {
     "name": "stdout",
     "output_type": "stream",
     "text": [
      "Current date and time:\n",
      " 2019-07-26 8:45\n"
     ]
    }
   ],
   "source": [
    "print(f\"Current date and time:\\n 2019-07-26 8:45\" )\n"
   ]
  },
  {
   "cell_type": "code",
   "execution_count": null,
   "metadata": {},
   "outputs": [],
   "source": [
    "#4. Write a Python program which accepts the radius of a circle from the user and compute the area. "
   ]
  },
  {
   "cell_type": "code",
   "execution_count": null,
   "metadata": {},
   "outputs": [],
   "source": [
    "radius = float(input(\"enter the radius of a circle: \"))\n",
    "A = 3.14*radius**2\n",
    "print(A)"
   ]
  },
  {
   "cell_type": "code",
   "execution_count": null,
   "metadata": {},
   "outputs": [],
   "source": [
    " #Write a Python program which accepts the user's first and last name and print them in reverse order with a space between them. "
   ]
  },
  {
   "cell_type": "code",
   "execution_count": null,
   "metadata": {},
   "outputs": [],
   "source": [
    "first_name = input(\"Enter your first name: \")\n",
    "last_name = input(\"Enter your last name: \")\n",
    "print(f\"hello {last_name} {first_name}\")\n"
   ]
  },
  {
   "cell_type": "code",
   "execution_count": null,
   "metadata": {},
   "outputs": [],
   "source": [
    "import datetime\n",
    "now = datetime.datetime.now()\n",
    "print(\"current date and time: \")\n",
    "print(now.strftime(\"%Y-%m-%d %H:%M:%S\"))"
   ]
  },
  {
   "cell_type": "code",
   "execution_count": null,
   "metadata": {},
   "outputs": [],
   "source": [
    "import datetime\n",
    "n = datetime.datetime.now()\n",
    "print(\"Current date and time: \")\n",
    "print(n.strftime(\"%Y-%m-%d %H:%M:%S\"))"
   ]
  },
  {
   "cell_type": "code",
   "execution_count": null,
   "metadata": {},
   "outputs": [],
   "source": [
    "import time\n",
    "now = datetime.datetime.now()\n",
    "print(\"Current date and time: \")\n",
    "print(noe.strftime(\"%Y-%m-%d %H:%M:%S\"))"
   ]
  },
  {
   "cell_type": "code",
   "execution_count": null,
   "metadata": {},
   "outputs": [],
   "source": [
    "#Write a Python program which accepts a sequence of comma-separated numbers from user and generate a list and a tuple with those numbers.\n",
    "#Sample data : 3, 5, 7, 23\n",
    "#Output : \n",
    "#List : ['3', ' 5', ' 7', ' 23'] \n",
    "#Tuple : ('3', ' 5', ' 7', ' 23')"
   ]
  },
  {
   "cell_type": "code",
   "execution_count": 14,
   "metadata": {},
   "outputs": [
    {
     "name": "stdout",
     "output_type": "stream",
     "text": [
      "Enter a sequence of numbers with comma: 4,5,6,7,8,9\n",
      "['4', '5', '6', '7', '8', '9']\n",
      "('4', '5', '6', '7', '8', '9')\n"
     ]
    }
   ],
   "source": [
    "x = input(\"Enter a sequence of numbers with comma: \")\n",
    "\n",
    "list1 = x.split(\",\")\n",
    "y = tuple(list1)\n",
    "print(list1)\n",
    "print(y)"
   ]
  },
  {
   "cell_type": "code",
   "execution_count": 5,
   "metadata": {},
   "outputs": [
    {
     "name": "stdout",
     "output_type": "stream",
     "text": [
      "[1, 2, 3, 4]\n"
     ]
    }
   ],
   "source": [
    "k1 = (1,2,3,4)\n",
    "x = list(k1)\n",
    "print(x)"
   ]
  },
  {
   "cell_type": "code",
   "execution_count": 6,
   "metadata": {},
   "outputs": [
    {
     "name": "stdout",
     "output_type": "stream",
     "text": [
      "(1, 2, 3, 4)\n"
     ]
    }
   ],
   "source": [
    "k2 = [1,2,3,4]\n",
    "x = tuple(k2)\n",
    "print(x)"
   ]
  },
  {
   "cell_type": "code",
   "execution_count": 26,
   "metadata": {},
   "outputs": [
    {
     "name": "stdout",
     "output_type": "stream",
     "text": [
      "enter any alphabets with commas: w,e,r\n",
      "['w', 'e', 'r']\n",
      "('w', 'e', 'r')\n"
     ]
    }
   ],
   "source": [
    "alph = input(\"enter any alphabets with commas: \")\n",
    "\n",
    "l1 = alph.split(\",\" , 3)\n",
    "t1 = tuple(l1)\n",
    "\n",
    "print(l1)\n",
    "print(t1)"
   ]
  },
  {
   "cell_type": "code",
   "execution_count": 20,
   "metadata": {},
   "outputs": [
    {
     "name": "stdout",
     "output_type": "stream",
     "text": [
      "enter any alphabets with commas: syeda kulsoom mukarraam ali kazmi\n",
      "['s', 'y', 'e', 'd', 'a', ' ', 'k', 'u', 'l', 's', 'o', 'o', 'm', ' ', 'm', 'u', 'k', 'a', 'r', 'r', 'a', 'a', 'm', ' ', 'a', 'l', 'i', ' ', 'k', 'a', 'z', 'm', 'i']\n",
      "('s', 'y', 'e', 'd', 'a', ' ', 'k', 'u', 'l', 's', 'o', 'o', 'm', ' ', 'm', 'u', 'k', 'a', 'r', 'r', 'a', 'a', 'm', ' ', 'a', 'l', 'i', ' ', 'k', 'a', 'z', 'm', 'i')\n"
     ]
    }
   ],
   "source": [
    "alph = input(\"enter any alphabets with commas: \")\n",
    "\n",
    "l1 = list(alph)\n",
    "t1 = tuple(l1)\n",
    "\n",
    "print(l1)\n",
    "print(t1)"
   ]
  },
  {
   "cell_type": "code",
   "execution_count": 21,
   "metadata": {},
   "outputs": [
    {
     "data": {
      "text/plain": [
       "33"
      ]
     },
     "execution_count": 21,
     "metadata": {},
     "output_type": "execute_result"
    }
   ],
   "source": [
    "len(l1)"
   ]
  },
  {
   "cell_type": "code",
   "execution_count": 22,
   "metadata": {},
   "outputs": [],
   "source": [
    "#Python str.rsplit(sep=None, maxsplit=-1) function:\n",
    "\n",
    "#The function returns a list of the words of a given string using a separator as the delimiter string.\n",
    "\n",
    "#If maxsplit is given, the list will have at most maxsplit+1 elements.\n",
    "#If maxsplit is not specified or -1, then there is no limit on the number of splits.\n",
    "#If sep is given, consecutive delimiters are not grouped together and are deemed to delimit empty strings.\n",
    "#The sep argument may consist of multiple characters.\n",
    "#Splitting an empty string with a specified separator returns ['']."
   ]
  },
  {
   "cell_type": "code",
   "execution_count": null,
   "metadata": {},
   "outputs": [],
   "source": [
    "#Write a Python program to display the first and last colors from the following list.\n",
    "#color_list = [\"Red\",\"Green\",\"White\" ,\"Black\"]"
   ]
  },
  {
   "cell_type": "code",
   "execution_count": 27,
   "metadata": {},
   "outputs": [
    {
     "name": "stdout",
     "output_type": "stream",
     "text": [
      "Red Black\n"
     ]
    }
   ],
   "source": [
    "color_list = [\"Red\",\"Green\",\"White\" ,\"Black\"]\n",
    "print( \"%s %s\"%(color_list[0],color_list[-1]))\n"
   ]
  },
  {
   "cell_type": "code",
   "execution_count": 30,
   "metadata": {},
   "outputs": [
    {
     "name": "stdout",
     "output_type": "stream",
     "text": [
      "Red Black\n"
     ]
    }
   ],
   "source": [
    "color_list = [\"Red\", \"Green\", \"White\", \"Black\"]\n",
    "print(color_list[0],color_list[-1])"
   ]
  },
  {
   "cell_type": "code",
   "execution_count": 32,
   "metadata": {},
   "outputs": [
    {
     "name": "stdout",
     "output_type": "stream",
     "text": [
      "Red Black\n"
     ]
    }
   ],
   "source": [
    "color_list = [\"Red\", \"Green\", \"White\", \"Black\"]\n",
    "print(color_list[0],color_list[3])"
   ]
  },
  {
   "cell_type": "code",
   "execution_count": 1,
   "metadata": {},
   "outputs": [],
   "source": [
    "#1: Accept two int values from the user and return their product. If the product is greater than 1000, then return their sum"
   ]
  },
  {
   "cell_type": "code",
   "execution_count": 3,
   "metadata": {},
   "outputs": [
    {
     "name": "stdout",
     "output_type": "stream",
     "text": [
      "Enter a first number: 1100\n",
      "Enter a second number: 1200\n",
      "2300\n"
     ]
    }
   ],
   "source": [
    "num1 = int(input(\"Enter a first number: \"))\n",
    "num2 = int(input(\"Enter a second number: \"))\n",
    "\n",
    "if num1 <= 1000 and num2 <= 1000:\n",
    "    print(num1 * num2)\n",
    "elif num1 >= 1000 and num2 >= 1000:\n",
    "    print(num1 + num2)                            #not correct\n",
    "else:\n",
    "    print(\"not recognized\")\n"
   ]
  },
  {
   "cell_type": "code",
   "execution_count": 20,
   "metadata": {},
   "outputs": [
    {
     "name": "stdout",
     "output_type": "stream",
     "text": [
      "24\n"
     ]
    }
   ],
   "source": [
    "def multiplication_sum(num1,num2):\n",
    "    product = num1 * num2\n",
    "    if product < 1000:\n",
    "        return(product)\n",
    "    else:\n",
    "        return num1 + num2             #correct\n",
    "\n",
    "result = multiplication_sum(4,6)\n",
    "print(result)"
   ]
  },
  {
   "cell_type": "code",
   "execution_count": 22,
   "metadata": {},
   "outputs": [
    {
     "data": {
      "text/plain": [
       "15"
      ]
     },
     "execution_count": 22,
     "metadata": {},
     "output_type": "execute_result"
    }
   ],
   "source": [
    "multiplication_sum(3,5)"
   ]
  },
  {
   "cell_type": "code",
   "execution_count": 24,
   "metadata": {},
   "outputs": [
    {
     "name": "stdout",
     "output_type": "stream",
     "text": [
      "enter your name: kulsoom\n",
      "enter your salary: 100000\n",
      "enter your company: google\n",
      "Employ details: \n",
      "name salary company\n",
      "kulsoom 100000 google\n"
     ]
    }
   ],
   "source": [
    "name = input(\"enter your name: \")\n",
    "salary = input(\"enter your salary: \")\n",
    "company = input(\"enter your company: \")\n",
    "print(\"Employ details: \")\n",
    "print(\"name\" ,  \"salary\" , \"company\")\n",
    "print(name ,  salary ,  company)"
   ]
  },
  {
   "cell_type": "code",
   "execution_count": null,
   "metadata": {},
   "outputs": [],
   "source": [
    "#input in list"
   ]
  },
  {
   "cell_type": "code",
   "execution_count": 3,
   "metadata": {},
   "outputs": [
    {
     "name": "stdout",
     "output_type": "stream",
     "text": [
      "Enter numbers separated by space: 1 2 3 4\n",
      "10\n"
     ]
    }
   ],
   "source": [
    "string_input = input(\"Enter numbers separated by space: \")\n",
    "list1 = string_input.split()\n",
    "sum1 = 0\n",
    "for i in list1:\n",
    "    sum1 += int(i)\n",
    "print(sum1)\n",
    "    "
   ]
  },
  {
   "cell_type": "code",
   "execution_count": 1,
   "metadata": {
    "scrolled": true
   },
   "outputs": [
    {
     "name": "stdout",
     "output_type": "stream",
     "text": [
      "Enter your family members name: ammi,baba,arshamh,kulsoom,taha,hashir\n",
      "ammi\n",
      "baba\n",
      "arshamh\n",
      "kulsoom\n",
      "taha\n",
      "hashir\n"
     ]
    }
   ],
   "source": [
    "family_members = input(\"Enter your family members name: \")\n",
    "list1 = family_members.split(\",\")\n",
    "for i in list1:\n",
    "    print(i)"
   ]
  },
  {
   "cell_type": "code",
   "execution_count": 2,
   "metadata": {},
   "outputs": [
    {
     "name": "stdout",
     "output_type": "stream",
     "text": [
      "Enter your name: kulsoom\n",
      "Enter your marks: 75\n",
      "student: Name: kulsoom Marks: 75%\n"
     ]
    }
   ],
   "source": [
    "name = input(\"Enter your name: \")\n",
    "marks = int(input(\"Enter your marks: \"))\n",
    "\n",
    "print(\"student: Name: {} Marks: {}%\" .format(name,marks))"
   ]
  },
  {
   "cell_type": "code",
   "execution_count": 1,
   "metadata": {},
   "outputs": [
    {
     "name": "stdout",
     "output_type": "stream",
     "text": [
      "Enter a text: lets check an alignment\n",
      "lets check an alignment  \n",
      "  lets check an alignment\n",
      " lets check an alignment \n"
     ]
    }
   ],
   "source": [
    "a = input(\"Enter a text: \")\n",
    "\n",
    "print('{:<25}'.format(a))\n",
    "print(\"{:>25}\".format(a))\n",
    "print(\"{:^25}\".format(a))\n"
   ]
  },
  {
   "cell_type": "code",
   "execution_count": 2,
   "metadata": {},
   "outputs": [
    {
     "name": "stdout",
     "output_type": "stream",
     "text": [
      "            1            \n",
      "            2            \n",
      "            3            \n",
      "            4            \n",
      "            5            \n",
      "            6            \n",
      "            7            \n",
      "            8            \n",
      "            9            \n"
     ]
    }
   ],
   "source": [
    "for i in range(1,10):\n",
    "    print(\"{:^25}\".format(i))    #for centre"
   ]
  },
  {
   "cell_type": "code",
   "execution_count": 3,
   "metadata": {},
   "outputs": [
    {
     "name": "stdout",
     "output_type": "stream",
     "text": [
      "1                        \n",
      "2                        \n",
      "3                        \n",
      "4                        \n",
      "5                        \n",
      "6                        \n",
      "7                        \n",
      "8                        \n",
      "9                        \n",
      "10                       \n",
      "11                       \n",
      "12                       \n",
      "13                       \n",
      "14                       \n",
      "15                       \n",
      "16                       \n",
      "17                       \n",
      "18                       \n",
      "19                       \n",
      "20                       \n",
      "21                       \n"
     ]
    }
   ],
   "source": [
    "for i in range(1,22):\n",
    "    print(\"{:<25}\".format(i))   #less than(right)"
   ]
  },
  {
   "cell_type": "code",
   "execution_count": 6,
   "metadata": {},
   "outputs": [
    {
     "name": "stdout",
     "output_type": "stream",
     "text": [
      "                        k\n",
      "                        u\n",
      "                        l\n",
      "                        s\n",
      "                        o\n",
      "                        o\n",
      "                        m\n"
     ]
    }
   ],
   "source": [
    "a = \"kulsoom\"\n",
    "for i in a:\n",
    "    print(\"{:>25}\".format(i))    #greater than(left)"
   ]
  },
  {
   "cell_type": "code",
   "execution_count": 8,
   "metadata": {},
   "outputs": [
    {
     "name": "stdout",
     "output_type": "stream",
     "text": [
      "enter a number: 1 2 3 4 5\n",
      "120\n"
     ]
    }
   ],
   "source": [
    "num = input(\"enter a number separated by space: \")\n",
    "list1 = num.split()\n",
    "product = 1\n",
    "\n",
    "for i in list1:\n",
    "    product *= int(i)\n",
    "print(product)\n",
    "    "
   ]
  },
  {
   "cell_type": "code",
   "execution_count": 14,
   "metadata": {},
   "outputs": [
    {
     "name": "stdout",
     "output_type": "stream",
     "text": [
      "enter a number: 67.78\n",
      "enter another number: -67.99\n",
      "+67.780000; -67.990000\n",
      "67.780000; -67.990000\n"
     ]
    }
   ],
   "source": [
    "positive_number = float(input(\"enter a number: \"))\n",
    "negative_number = float(input(\"enter another number: \"))\n",
    "\n",
    "print(\"{:+f}; {:+f}\".format(positive_number, negative_number))\n",
    "print('{:f}; {:-f}'.format(positive_number, negative_number))\n"
   ]
  },
  {
   "cell_type": "code",
   "execution_count": 19,
   "metadata": {},
   "outputs": [
    {
     "name": "stdout",
     "output_type": "stream",
     "text": [
      "enter a number: 67.89\n",
      "enter another number: -98.654\n",
      "+67.890000 -98.654000\n",
      "67.890000 -98.654000\n"
     ]
    }
   ],
   "source": [
    "num1 = float(input(\"enter a number: \"))\n",
    "num2 = float(input(\"enter another number: \"))\n",
    "print(\"{:+f} {:+f}\".format(num1,num2))  # sign \"+\" is for both positive and negative number\n",
    "print(\"{:f} {:-f}\".format(num1,num2))   # sign \"-\" is  only for negative number"
   ]
  },
  {
   "cell_type": "code",
   "execution_count": 21,
   "metadata": {},
   "outputs": [
    {
     "name": "stdout",
     "output_type": "stream",
     "text": [
      "enter a number: 356\n",
      "356\n",
      "544\n",
      "164\n",
      "101100100\n"
     ]
    }
   ],
   "source": [
    "number = int(input(\"enter a number: \"))\n",
    "# \"d\" for integer\n",
    "print(\"{:d}\".format(number))\n",
    "# \"o\" for octal number\n",
    "print('{:o}'.format(number))\n",
    "# \"x\" for hexadecimal\n",
    "print(\"{:x}\".format(number))\n",
    "# \"b\" for binary\n",
    "print(\"{:b}\".format(number))"
   ]
  },
  {
   "cell_type": "code",
   "execution_count": 1,
   "metadata": {},
   "outputs": [
    {
     "name": "stdout",
     "output_type": "stream",
     "text": [
      "enter a number: 789\n",
      "789.000000\n",
      "7.890000e+02\n",
      "7.890000E+02\n",
      "789.0000\n"
     ]
    }
   ],
   "source": [
    "number = int(input(\"enter a number: \"))\n",
    "# convert in float\n",
    "print(\"{:f}\".format(number))\n",
    "# exponent (shows how many numbers after decimal)\n",
    "print(\"{:e}\".format(number))\n",
    "# exponent in uppercase\n",
    "print(\"{:E}\".format(number))\n",
    "# padding for float numbers\n",
    "print(\"{:.4f}\".format(number))"
   ]
  },
  {
   "cell_type": "code",
   "execution_count": 7,
   "metadata": {},
   "outputs": [
    {
     "name": "stdout",
     "output_type": "stream",
     "text": [
      "enter string: hello\n",
      "hello*****\n",
      ">>>>>hello\n",
      "--hello---\n"
     ]
    }
   ],
   "source": [
    "text = input(\"enter string: \")\n",
    "\n",
    "print(text.ljust(10,\"*\"))\n",
    "\n",
    "print(text.rjust(10,\">\"))\n",
    "\n",
    "print(text.center(10,\"-\"))"
   ]
  },
  {
   "cell_type": "code",
   "execution_count": 3,
   "metadata": {},
   "outputs": [
    {
     "name": "stdout",
     "output_type": "stream",
     "text": [
      "entera number: 67\n"
     ]
    },
    {
     "ename": "AttributeError",
     "evalue": "'int' object has no attribute 'ljust'",
     "output_type": "error",
     "traceback": [
      "\u001b[1;31m---------------------------------------------------------------------------\u001b[0m",
      "\u001b[1;31mAttributeError\u001b[0m                            Traceback (most recent call last)",
      "\u001b[1;32m<ipython-input-3-2fb4b339e58b>\u001b[0m in \u001b[0;36m<module>\u001b[1;34m\u001b[0m\n\u001b[0;32m      1\u001b[0m \u001b[0mnumber\u001b[0m \u001b[1;33m=\u001b[0m \u001b[0mint\u001b[0m\u001b[1;33m(\u001b[0m\u001b[0minput\u001b[0m\u001b[1;33m(\u001b[0m\u001b[1;34m\"entera number: \"\u001b[0m\u001b[1;33m)\u001b[0m\u001b[1;33m)\u001b[0m\u001b[1;33m\u001b[0m\u001b[1;33m\u001b[0m\u001b[0m\n\u001b[0;32m      2\u001b[0m \u001b[1;33m\u001b[0m\u001b[0m\n\u001b[1;32m----> 3\u001b[1;33m \u001b[0mprint\u001b[0m\u001b[1;33m(\u001b[0m\u001b[0mnumber\u001b[0m\u001b[1;33m.\u001b[0m\u001b[0mljust\u001b[0m\u001b[1;33m(\u001b[0m\u001b[1;36m5\u001b[0m\u001b[1;33m,\u001b[0m\u001b[1;34m\"*\"\u001b[0m\u001b[1;33m)\u001b[0m\u001b[1;33m)\u001b[0m\u001b[1;33m\u001b[0m\u001b[1;33m\u001b[0m\u001b[0m\n\u001b[0m",
      "\u001b[1;31mAttributeError\u001b[0m: 'int' object has no attribute 'ljust'"
     ]
    }
   ],
   "source": [
    "number = int(input(\"entera number: \"))\n",
    "\n",
    "print(number.ljust(5,\"*\"))       # only for string"
   ]
  },
  {
   "cell_type": "code",
   "execution_count": 10,
   "metadata": {},
   "outputs": [
    {
     "name": "stdout",
     "output_type": "stream",
     "text": [
      "enter some string: kulsoom\n",
      "                                           kulsoom\n",
      "                     kulsoom                      \n",
      "kulsoom                                           \n"
     ]
    }
   ],
   "source": [
    "text = input(\"enter some string: \")\n",
    "\n",
    "print(\"{:>50}\".format(text))\n",
    "print(\"{:^50}\".format(text))\n",
    "print(\"{:<50}\".format(text))    # 50(how much distance we want)"
   ]
  },
  {
   "cell_type": "code",
   "execution_count": 11,
   "metadata": {},
   "outputs": [
    {
     "name": "stdout",
     "output_type": "stream",
     "text": [
      "enter  numbers separated with comma: 1,2,3,4,5,5\n",
      "['1', '2', '3', '4', '5', '5']\n",
      "('1', '2', '3', '4', '5', '5')\n"
     ]
    }
   ],
   "source": [
    "number = input(\"enter  numbers separated with comma: \")\n",
    "\n",
    "list1 = number.split(\",\")\n",
    "x = tuple(list1)\n",
    "print(list1)\n",
    "print(x)"
   ]
  },
  {
   "cell_type": "code",
   "execution_count": 12,
   "metadata": {},
   "outputs": [],
   "source": [
    "#Write a Python program to sum all the items in a list"
   ]
  },
  {
   "cell_type": "code",
   "execution_count": 1,
   "metadata": {},
   "outputs": [
    {
     "name": "stdout",
     "output_type": "stream",
     "text": [
      "enter  numbers separated by commas: 1,2,34,5\n",
      "42\n"
     ]
    }
   ],
   "source": [
    "numbers = input(\"enter  numbers separated by commas: \")\n",
    "list = numbers.split(\",\")\n",
    "sum = 0\n",
    "for i in list:\n",
    "    sum += int(i)\n",
    "    \n",
    "print(sum)\n",
    "    "
   ]
  },
  {
   "cell_type": "code",
   "execution_count": 2,
   "metadata": {},
   "outputs": [],
   "source": [
    "\n",
    " #Write a Python program to multiples all the items in a list"
   ]
  },
  {
   "cell_type": "code",
   "execution_count": 4,
   "metadata": {},
   "outputs": [
    {
     "name": "stdout",
     "output_type": "stream",
     "text": [
      "enter number for multiplication: 1 2 3 4 5\n",
      "120\n"
     ]
    }
   ],
   "source": [
    "numbers = input(\"enter number for multiplication: \")\n",
    "list = numbers.split()\n",
    "product = 1\n",
    "\n",
    "for i in list:\n",
    "    product *= int(i)\n",
    "print(product)"
   ]
  },
  {
   "cell_type": "code",
   "execution_count": 5,
   "metadata": {},
   "outputs": [],
   "source": [
    "#Write a Python program to get the largest number from a list."
   ]
  },
  {
   "cell_type": "code",
   "execution_count": null,
   "metadata": {},
   "outputs": [],
   "source": [
    "numbers = input(\"enter numbers: \")\n",
    "\n",
    "list = numbers.split()\n"
   ]
  },
  {
   "cell_type": "markdown",
   "metadata": {},
   "source": [
    "# range"
   ]
  },
  {
   "cell_type": "code",
   "execution_count": 3,
   "metadata": {},
   "outputs": [
    {
     "name": "stdout",
     "output_type": "stream",
     "text": [
      "0 1 2 3 4 5 6 7 8 9 10 "
     ]
    }
   ],
   "source": [
    "for i in range(11):\n",
    "    print(i,end = \" \")"
   ]
  },
  {
   "cell_type": "code",
   "execution_count": 5,
   "metadata": {},
   "outputs": [
    {
     "name": "stdout",
     "output_type": "stream",
     "text": [
      "10 12 14 16 18 20 22 24 26 28 30 "
     ]
    }
   ],
   "source": [
    "for i in range(10,31,2):\n",
    "    print(i,end=\" \")"
   ]
  },
  {
   "cell_type": "code",
   "execution_count": 14,
   "metadata": {},
   "outputs": [
    {
     "name": "stdout",
     "output_type": "stream",
     "text": [
      "1 2 3 4 5 6 7 8 9 10 "
     ]
    }
   ],
   "source": [
    "for i in range(1,11,1):\n",
    "    print(i,end=\" \")"
   ]
  },
  {
   "cell_type": "code",
   "execution_count": 15,
   "metadata": {},
   "outputs": [
    {
     "name": "stdout",
     "output_type": "stream",
     "text": [
      "1 2 3 4 5 "
     ]
    }
   ],
   "source": [
    "start = 1\n",
    "stop = 5\n",
    "step =1 \n",
    "stop += step\n",
    "for i in range(start,stop,step):\n",
    "    print(i,end=\" \")"
   ]
  },
  {
   "cell_type": "code",
   "execution_count": 16,
   "metadata": {},
   "outputs": [
    {
     "name": "stdout",
     "output_type": "stream",
     "text": [
      "1 3 5 7 9 11 "
     ]
    }
   ],
   "source": [
    "start = 1\n",
    "stop = 10\n",
    "step = 2\n",
    "stop += step\n",
    "for i in range(start,stop,step):\n",
    "    print(i,end=\" \")"
   ]
  },
  {
   "cell_type": "code",
   "execution_count": 17,
   "metadata": {},
   "outputs": [],
   "source": [
    "# decrementing with range() using a negative step"
   ]
  },
  {
   "cell_type": "code",
   "execution_count": 19,
   "metadata": {},
   "outputs": [
    {
     "name": "stdout",
     "output_type": "stream",
     "text": [
      "-2 -3 -4 -5 -6 -7 -8 -9 "
     ]
    }
   ],
   "source": [
    "for i in range(-2,-10,-1):\n",
    "    print(i,end = \" \")"
   ]
  },
  {
   "cell_type": "code",
   "execution_count": 21,
   "metadata": {},
   "outputs": [
    {
     "name": "stdout",
     "output_type": "stream",
     "text": [
      "-2 -4 -6 -8 -10 "
     ]
    }
   ],
   "source": [
    "for i in range(-2,-11,-2):\n",
    "    print(i,end = \" \")"
   ]
  },
  {
   "cell_type": "code",
   "execution_count": 22,
   "metadata": {},
   "outputs": [],
   "source": [
    "#decrementing with range from  negative to positive number\n"
   ]
  },
  {
   "cell_type": "code",
   "execution_count": 23,
   "metadata": {},
   "outputs": [
    {
     "name": "stdout",
     "output_type": "stream",
     "text": [
      "-3 -2 -1 0 1 2 3 4 5 6 7 8 9 "
     ]
    }
   ],
   "source": [
    "for i in range(-3,10,1):\n",
    "    print(i,end = \" \")"
   ]
  },
  {
   "cell_type": "code",
   "execution_count": 24,
   "metadata": {},
   "outputs": [],
   "source": [
    "#python range from positive to negative numbers.\n"
   ]
  },
  {
   "cell_type": "code",
   "execution_count": 29,
   "metadata": {},
   "outputs": [
    {
     "name": "stdout",
     "output_type": "stream",
     "text": [
      "5 4 3 2 1 0 -1 -2 -3 -4 -5 "
     ]
    }
   ],
   "source": [
    "for i in range(5,-6,-1):\n",
    "    print(i,end =\" \")"
   ]
  },
  {
   "cell_type": "code",
   "execution_count": 30,
   "metadata": {},
   "outputs": [],
   "source": [
    "#converting range() to list\n"
   ]
  },
  {
   "cell_type": "code",
   "execution_count": 35,
   "metadata": {},
   "outputs": [
    {
     "ename": "TypeError",
     "evalue": "'list' object is not callable",
     "output_type": "error",
     "traceback": [
      "\u001b[1;31m---------------------------------------------------------------------------\u001b[0m",
      "\u001b[1;31mTypeError\u001b[0m                                 Traceback (most recent call last)",
      "\u001b[1;32m<ipython-input-35-3c0a6bad9981>\u001b[0m in \u001b[0;36m<module>\u001b[1;34m\u001b[0m\n\u001b[1;32m----> 1\u001b[1;33m \u001b[0meven_list\u001b[0m \u001b[1;33m=\u001b[0m \u001b[0mlist\u001b[0m \u001b[1;33m(\u001b[0m\u001b[0mrange\u001b[0m\u001b[1;33m(\u001b[0m\u001b[1;36m2\u001b[0m\u001b[1;33m,\u001b[0m\u001b[1;36m11\u001b[0m\u001b[1;33m,\u001b[0m\u001b[1;36m2\u001b[0m\u001b[1;33m)\u001b[0m\u001b[1;33m)\u001b[0m\u001b[1;33m\u001b[0m\u001b[1;33m\u001b[0m\u001b[0m\n\u001b[0m\u001b[0;32m      2\u001b[0m \u001b[0mprint\u001b[0m\u001b[1;33m(\u001b[0m\u001b[0meven_list\u001b[0m\u001b[1;33m)\u001b[0m\u001b[1;33m\u001b[0m\u001b[1;33m\u001b[0m\u001b[0m\n",
      "\u001b[1;31mTypeError\u001b[0m: 'list' object is not callable"
     ]
    }
   ],
   "source": [
    "even_list = list (range(2,11,2))\n",
    "print(even_list)"
   ]
  },
  {
   "cell_type": "code",
   "execution_count": 65,
   "metadata": {},
   "outputs": [
    {
     "name": "stdout",
     "output_type": "stream",
     "text": [
      "Converting python range() to list\n",
      "[1, 3, 5, 7, 9]\n"
     ]
    }
   ],
   "source": [
    "print(\"Converting python range() to list\")\n",
    "even_list = list(( range(1,10,2)))\n",
    "print(even_list)"
   ]
  },
  {
   "cell_type": "code",
   "execution_count": 48,
   "metadata": {},
   "outputs": [],
   "source": [
    "#reverse range in python"
   ]
  },
  {
   "cell_type": "code",
   "execution_count": 53,
   "metadata": {},
   "outputs": [
    {
     "name": "stdout",
     "output_type": "stream",
     "text": [
      "5\n",
      "4\n",
      "3\n",
      "2\n",
      "1\n",
      "0\n"
     ]
    }
   ],
   "source": [
    "for i in range(5,-1,-1):\n",
    "    print(i)"
   ]
  },
  {
   "cell_type": "code",
   "execution_count": 63,
   "metadata": {},
   "outputs": [
    {
     "name": "stdout",
     "output_type": "stream",
     "text": [
      "[0, 2, 4, 6, 8, 10]\n"
     ]
    }
   ],
   "source": [
    "even = list((range(0,12,2)))\n",
    "print(even)"
   ]
  },
  {
   "cell_type": "code",
   "execution_count": 59,
   "metadata": {},
   "outputs": [
    {
     "ename": "TypeError",
     "evalue": "'str' object cannot be interpreted as an integer",
     "output_type": "error",
     "traceback": [
      "\u001b[1;31m---------------------------------------------------------------------------\u001b[0m",
      "\u001b[1;31mTypeError\u001b[0m                                 Traceback (most recent call last)",
      "\u001b[1;32m<ipython-input-59-e26d3accefa7>\u001b[0m in \u001b[0;36m<module>\u001b[1;34m\u001b[0m\n\u001b[1;32m----> 1\u001b[1;33m \u001b[1;32mfor\u001b[0m \u001b[0mi\u001b[0m \u001b[1;32min\u001b[0m \u001b[0mrange\u001b[0m\u001b[1;33m(\u001b[0m\u001b[1;34m\"a\"\u001b[0m\u001b[1;33m,\u001b[0m\u001b[1;34m\"z\"\u001b[0m\u001b[1;33m)\u001b[0m\u001b[1;33m:\u001b[0m\u001b[1;33m\u001b[0m\u001b[1;33m\u001b[0m\u001b[0m\n\u001b[0m\u001b[0;32m      2\u001b[0m     \u001b[0mprint\u001b[0m\u001b[1;33m(\u001b[0m\u001b[0mi\u001b[0m\u001b[1;33m)\u001b[0m\u001b[1;33m\u001b[0m\u001b[1;33m\u001b[0m\u001b[0m\n",
      "\u001b[1;31mTypeError\u001b[0m: 'str' object cannot be interpreted as an integer"
     ]
    }
   ],
   "source": [
    "for i in range(\"a\",\"z\"):\n",
    "    print(i)"
   ]
  },
  {
   "cell_type": "code",
   "execution_count": 60,
   "metadata": {},
   "outputs": [],
   "source": [
    "#Given a range of numbers. Iterate from o^th number to the end number and print the sum of the current number and previous number"
   ]
  },
  {
   "cell_type": "code",
   "execution_count": 69,
   "metadata": {},
   "outputs": [
    {
     "name": "stdout",
     "output_type": "stream",
     "text": [
      "0 4 8 12 16 20 24 28 32 36 40 "
     ]
    }
   ],
   "source": [
    "for i in range(0,21,2):\n",
    "    print(i + i,end = \" \")"
   ]
  },
  {
   "cell_type": "code",
   "execution_count": 70,
   "metadata": {},
   "outputs": [],
   "source": [
    "#Given a list of ints, return True if first and last number of a list is same"
   ]
  },
  {
   "cell_type": "code",
   "execution_count": 1,
   "metadata": {},
   "outputs": [
    {
     "ename": "ZeroDivisionError",
     "evalue": "integer division or modulo by zero",
     "output_type": "error",
     "traceback": [
      "\u001b[1;31m---------------------------------------------------------------------------\u001b[0m",
      "\u001b[1;31mZeroDivisionError\u001b[0m                         Traceback (most recent call last)",
      "\u001b[1;32m<ipython-input-1-29746e9220ea>\u001b[0m in \u001b[0;36m<module>\u001b[1;34m\u001b[0m\n\u001b[1;32m----> 1\u001b[1;33m \u001b[1;36m1\u001b[0m\u001b[1;33m%\u001b[0m\u001b[1;36m0\u001b[0m\u001b[1;33m\u001b[0m\u001b[1;33m\u001b[0m\u001b[0m\n\u001b[0m",
      "\u001b[1;31mZeroDivisionError\u001b[0m: integer division or modulo by zero"
     ]
    }
   ],
   "source": [
    "1%0"
   ]
  },
  {
   "cell_type": "code",
   "execution_count": 2,
   "metadata": {},
   "outputs": [
    {
     "name": "stdout",
     "output_type": "stream",
     "text": [
      "0\n"
     ]
    }
   ],
   "source": [
    "print(0)"
   ]
  },
  {
   "cell_type": "code",
   "execution_count": 5,
   "metadata": {},
   "outputs": [
    {
     "name": "stdout",
     "output_type": "stream",
     "text": [
      "2 1\n"
     ]
    }
   ],
   "source": [
    "x = 1\n",
    "y = 2\n",
    "z = x\n",
    "x = y\n",
    "y = z\n",
    "print(x,y)"
   ]
  },
  {
   "cell_type": "code",
   "execution_count": 8,
   "metadata": {},
   "outputs": [
    {
     "name": "stdout",
     "output_type": "stream",
     "text": [
      "enter a number: 2\n",
      "enter a number: 4\n",
      "8.0\n"
     ]
    }
   ],
   "source": [
    "x = int(input(\"enter a number: \"))\n",
    "y = int(input(\"enter a number: \"))\n",
    "x= x/y\n",
    "y = y/x\n",
    "print(y)\n",
    "\n"
   ]
  },
  {
   "cell_type": "code",
   "execution_count": 3,
   "metadata": {},
   "outputs": [
    {
     "name": "stdout",
     "output_type": "stream",
     "text": [
      "number: 11\n",
      "number: 4\n",
      "3\n"
     ]
    }
   ],
   "source": [
    "x = int(input(\"number: \"))\n",
    "y = int(input(\"number: \"))\n",
    "z = x%y\n",
    "print(z)"
   ]
  },
  {
   "cell_type": "code",
   "execution_count": null,
   "metadata": {},
   "outputs": [],
   "source": []
  }
 ],
 "metadata": {
  "kernelspec": {
   "display_name": "Python 3",
   "language": "python",
   "name": "python3"
  },
  "language_info": {
   "codemirror_mode": {
    "name": "ipython",
    "version": 3
   },
   "file_extension": ".py",
   "mimetype": "text/x-python",
   "name": "python",
   "nbconvert_exporter": "python",
   "pygments_lexer": "ipython3",
   "version": "3.7.3"
  }
 },
 "nbformat": 4,
 "nbformat_minor": 2
}
